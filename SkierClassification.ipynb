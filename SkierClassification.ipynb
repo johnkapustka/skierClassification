{
  "cells": [
    {
      "cell_type": "markdown",
      "metadata": {
        "id": "view-in-github",
        "colab_type": "text"
      },
      "source": [
        "<a href=\"https://colab.research.google.com/github/johnkapustka/skierClassification/blob/main/SkierClassification.ipynb\" target=\"_parent\"><img src=\"https://colab.research.google.com/assets/colab-badge.svg\" alt=\"Open In Colab\"/></a>"
      ]
    },
    {
      "cell_type": "markdown",
      "metadata": {
        "id": "nGAGk9YOG8Ri"
      },
      "source": [
        "# Project for Intro to AI: Skier vs Snowboarder Classification"
      ]
    },
    {
      "cell_type": "markdown",
      "metadata": {
        "id": "RD-984bGHEzh"
      },
      "source": [
        "# 0. Setup"
      ]
    },
    {
      "cell_type": "code",
      "execution_count": 2,
      "metadata": {
        "colab": {
          "base_uri": "https://localhost:8080/"
        },
        "id": "PeE6eW0iGyuk",
        "outputId": "4c1a0380-903f-4310-ffad-4ef7d1249786"
      },
      "outputs": [
        {
          "output_type": "stream",
          "name": "stdout",
          "text": [
            "Mon Nov  6 01:17:36 2023       \n",
            "+-----------------------------------------------------------------------------+\n",
            "| NVIDIA-SMI 525.105.17   Driver Version: 525.105.17   CUDA Version: 12.0     |\n",
            "|-------------------------------+----------------------+----------------------+\n",
            "| GPU  Name        Persistence-M| Bus-Id        Disp.A | Volatile Uncorr. ECC |\n",
            "| Fan  Temp  Perf  Pwr:Usage/Cap|         Memory-Usage | GPU-Util  Compute M. |\n",
            "|                               |                      |               MIG M. |\n",
            "|===============================+======================+======================|\n",
            "|   0  Tesla T4            Off  | 00000000:00:04.0 Off |                    0 |\n",
            "| N/A   43C    P8     9W /  70W |      0MiB / 15360MiB |      0%      Default |\n",
            "|                               |                      |                  N/A |\n",
            "+-------------------------------+----------------------+----------------------+\n",
            "                                                                               \n",
            "+-----------------------------------------------------------------------------+\n",
            "| Processes:                                                                  |\n",
            "|  GPU   GI   CI        PID   Type   Process name                  GPU Memory |\n",
            "|        ID   ID                                                   Usage      |\n",
            "|=============================================================================|\n",
            "|  No running processes found                                                 |\n",
            "+-----------------------------------------------------------------------------+\n"
          ]
        }
      ],
      "source": [
        "!nvidia-smi"
      ]
    },
    {
      "cell_type": "code",
      "execution_count": 3,
      "metadata": {
        "id": "LDby5xfaHD_K"
      },
      "outputs": [],
      "source": [
        "import torch\n",
        "import os\n",
        "import sys\n",
        "\n",
        "HOME = os.getcwd()"
      ]
    },
    {
      "cell_type": "code",
      "execution_count": 4,
      "metadata": {
        "colab": {
          "base_uri": "https://localhost:8080/"
        },
        "id": "O1UwR31vHhQz",
        "outputId": "2371022d-4073-4cda-a19e-4d4ac1a0d520"
      },
      "outputs": [
        {
          "output_type": "stream",
          "name": "stdout",
          "text": [
            "/content\n",
            "Cloning into 'yolov7'...\n",
            "remote: Enumerating objects: 1197, done.\u001b[K\n",
            "remote: Counting objects: 100% (6/6), done.\u001b[K\n",
            "remote: Compressing objects: 100% (5/5), done.\u001b[K\n",
            "remote: Total 1197 (delta 2), reused 3 (delta 1), pack-reused 1191\u001b[K\n",
            "Receiving objects: 100% (1197/1197), 74.23 MiB | 29.96 MiB/s, done.\n",
            "Resolving deltas: 100% (517/517), done.\n",
            "/content/yolov7\n",
            "Requirement already satisfied: matplotlib>=3.2.2 in /usr/local/lib/python3.10/dist-packages (from -r requirements.txt (line 4)) (3.7.1)\n",
            "Requirement already satisfied: numpy<1.24.0,>=1.18.5 in /usr/local/lib/python3.10/dist-packages (from -r requirements.txt (line 5)) (1.23.5)\n",
            "Requirement already satisfied: opencv-python>=4.1.1 in /usr/local/lib/python3.10/dist-packages (from -r requirements.txt (line 6)) (4.8.0.76)\n",
            "Requirement already satisfied: Pillow>=7.1.2 in /usr/local/lib/python3.10/dist-packages (from -r requirements.txt (line 7)) (9.4.0)\n",
            "Requirement already satisfied: PyYAML>=5.3.1 in /usr/local/lib/python3.10/dist-packages (from -r requirements.txt (line 8)) (6.0.1)\n",
            "Requirement already satisfied: requests>=2.23.0 in /usr/local/lib/python3.10/dist-packages (from -r requirements.txt (line 9)) (2.31.0)\n",
            "Requirement already satisfied: scipy>=1.4.1 in /usr/local/lib/python3.10/dist-packages (from -r requirements.txt (line 10)) (1.11.3)\n",
            "Requirement already satisfied: torch!=1.12.0,>=1.7.0 in /usr/local/lib/python3.10/dist-packages (from -r requirements.txt (line 11)) (2.1.0+cu118)\n",
            "Requirement already satisfied: torchvision!=0.13.0,>=0.8.1 in /usr/local/lib/python3.10/dist-packages (from -r requirements.txt (line 12)) (0.16.0+cu118)\n",
            "Requirement already satisfied: tqdm>=4.41.0 in /usr/local/lib/python3.10/dist-packages (from -r requirements.txt (line 13)) (4.66.1)\n",
            "Requirement already satisfied: protobuf<4.21.3 in /usr/local/lib/python3.10/dist-packages (from -r requirements.txt (line 14)) (3.20.3)\n",
            "Requirement already satisfied: tensorboard>=2.4.1 in /usr/local/lib/python3.10/dist-packages (from -r requirements.txt (line 17)) (2.14.1)\n",
            "Requirement already satisfied: pandas>=1.1.4 in /usr/local/lib/python3.10/dist-packages (from -r requirements.txt (line 21)) (1.5.3)\n",
            "Requirement already satisfied: seaborn>=0.11.0 in /usr/local/lib/python3.10/dist-packages (from -r requirements.txt (line 22)) (0.12.2)\n",
            "Requirement already satisfied: ipython in /usr/local/lib/python3.10/dist-packages (from -r requirements.txt (line 34)) (7.34.0)\n",
            "Requirement already satisfied: psutil in /usr/local/lib/python3.10/dist-packages (from -r requirements.txt (line 35)) (5.9.5)\n",
            "Collecting thop (from -r requirements.txt (line 36))\n",
            "  Downloading thop-0.1.1.post2209072238-py3-none-any.whl (15 kB)\n",
            "Requirement already satisfied: contourpy>=1.0.1 in /usr/local/lib/python3.10/dist-packages (from matplotlib>=3.2.2->-r requirements.txt (line 4)) (1.1.1)\n",
            "Requirement already satisfied: cycler>=0.10 in /usr/local/lib/python3.10/dist-packages (from matplotlib>=3.2.2->-r requirements.txt (line 4)) (0.12.1)\n",
            "Requirement already satisfied: fonttools>=4.22.0 in /usr/local/lib/python3.10/dist-packages (from matplotlib>=3.2.2->-r requirements.txt (line 4)) (4.43.1)\n",
            "Requirement already satisfied: kiwisolver>=1.0.1 in /usr/local/lib/python3.10/dist-packages (from matplotlib>=3.2.2->-r requirements.txt (line 4)) (1.4.5)\n",
            "Requirement already satisfied: packaging>=20.0 in /usr/local/lib/python3.10/dist-packages (from matplotlib>=3.2.2->-r requirements.txt (line 4)) (23.2)\n",
            "Requirement already satisfied: pyparsing>=2.3.1 in /usr/local/lib/python3.10/dist-packages (from matplotlib>=3.2.2->-r requirements.txt (line 4)) (3.1.1)\n",
            "Requirement already satisfied: python-dateutil>=2.7 in /usr/local/lib/python3.10/dist-packages (from matplotlib>=3.2.2->-r requirements.txt (line 4)) (2.8.2)\n",
            "Requirement already satisfied: charset-normalizer<4,>=2 in /usr/local/lib/python3.10/dist-packages (from requests>=2.23.0->-r requirements.txt (line 9)) (3.3.1)\n",
            "Requirement already satisfied: idna<4,>=2.5 in /usr/local/lib/python3.10/dist-packages (from requests>=2.23.0->-r requirements.txt (line 9)) (3.4)\n",
            "Requirement already satisfied: urllib3<3,>=1.21.1 in /usr/local/lib/python3.10/dist-packages (from requests>=2.23.0->-r requirements.txt (line 9)) (2.0.7)\n",
            "Requirement already satisfied: certifi>=2017.4.17 in /usr/local/lib/python3.10/dist-packages (from requests>=2.23.0->-r requirements.txt (line 9)) (2023.7.22)\n",
            "Requirement already satisfied: filelock in /usr/local/lib/python3.10/dist-packages (from torch!=1.12.0,>=1.7.0->-r requirements.txt (line 11)) (3.12.4)\n",
            "Requirement already satisfied: typing-extensions in /usr/local/lib/python3.10/dist-packages (from torch!=1.12.0,>=1.7.0->-r requirements.txt (line 11)) (4.5.0)\n",
            "Requirement already satisfied: sympy in /usr/local/lib/python3.10/dist-packages (from torch!=1.12.0,>=1.7.0->-r requirements.txt (line 11)) (1.12)\n",
            "Requirement already satisfied: networkx in /usr/local/lib/python3.10/dist-packages (from torch!=1.12.0,>=1.7.0->-r requirements.txt (line 11)) (3.2)\n",
            "Requirement already satisfied: jinja2 in /usr/local/lib/python3.10/dist-packages (from torch!=1.12.0,>=1.7.0->-r requirements.txt (line 11)) (3.1.2)\n",
            "Requirement already satisfied: fsspec in /usr/local/lib/python3.10/dist-packages (from torch!=1.12.0,>=1.7.0->-r requirements.txt (line 11)) (2023.6.0)\n",
            "Requirement already satisfied: triton==2.1.0 in /usr/local/lib/python3.10/dist-packages (from torch!=1.12.0,>=1.7.0->-r requirements.txt (line 11)) (2.1.0)\n",
            "Requirement already satisfied: absl-py>=0.4 in /usr/local/lib/python3.10/dist-packages (from tensorboard>=2.4.1->-r requirements.txt (line 17)) (1.4.0)\n",
            "Requirement already satisfied: grpcio>=1.48.2 in /usr/local/lib/python3.10/dist-packages (from tensorboard>=2.4.1->-r requirements.txt (line 17)) (1.59.0)\n",
            "Requirement already satisfied: google-auth<3,>=1.6.3 in /usr/local/lib/python3.10/dist-packages (from tensorboard>=2.4.1->-r requirements.txt (line 17)) (2.17.3)\n",
            "Requirement already satisfied: google-auth-oauthlib<1.1,>=0.5 in /usr/local/lib/python3.10/dist-packages (from tensorboard>=2.4.1->-r requirements.txt (line 17)) (1.0.0)\n",
            "Requirement already satisfied: markdown>=2.6.8 in /usr/local/lib/python3.10/dist-packages (from tensorboard>=2.4.1->-r requirements.txt (line 17)) (3.5)\n",
            "Requirement already satisfied: setuptools>=41.0.0 in /usr/local/lib/python3.10/dist-packages (from tensorboard>=2.4.1->-r requirements.txt (line 17)) (67.7.2)\n",
            "Requirement already satisfied: six>1.9 in /usr/local/lib/python3.10/dist-packages (from tensorboard>=2.4.1->-r requirements.txt (line 17)) (1.16.0)\n",
            "Requirement already satisfied: tensorboard-data-server<0.8.0,>=0.7.0 in /usr/local/lib/python3.10/dist-packages (from tensorboard>=2.4.1->-r requirements.txt (line 17)) (0.7.2)\n",
            "Requirement already satisfied: werkzeug>=1.0.1 in /usr/local/lib/python3.10/dist-packages (from tensorboard>=2.4.1->-r requirements.txt (line 17)) (3.0.1)\n",
            "Requirement already satisfied: pytz>=2020.1 in /usr/local/lib/python3.10/dist-packages (from pandas>=1.1.4->-r requirements.txt (line 21)) (2023.3.post1)\n",
            "Collecting jedi>=0.16 (from ipython->-r requirements.txt (line 34))\n",
            "  Downloading jedi-0.19.1-py2.py3-none-any.whl (1.6 MB)\n",
            "\u001b[2K     \u001b[90m━━━━━━━━━━━━━━━━━━━━━━━━━━━━━━━━━━━━━━━━\u001b[0m \u001b[32m1.6/1.6 MB\u001b[0m \u001b[31m8.1 MB/s\u001b[0m eta \u001b[36m0:00:00\u001b[0m\n",
            "\u001b[?25hRequirement already satisfied: decorator in /usr/local/lib/python3.10/dist-packages (from ipython->-r requirements.txt (line 34)) (4.4.2)\n",
            "Requirement already satisfied: pickleshare in /usr/local/lib/python3.10/dist-packages (from ipython->-r requirements.txt (line 34)) (0.7.5)\n",
            "Requirement already satisfied: traitlets>=4.2 in /usr/local/lib/python3.10/dist-packages (from ipython->-r requirements.txt (line 34)) (5.7.1)\n",
            "Requirement already satisfied: prompt-toolkit!=3.0.0,!=3.0.1,<3.1.0,>=2.0.0 in /usr/local/lib/python3.10/dist-packages (from ipython->-r requirements.txt (line 34)) (3.0.39)\n",
            "Requirement already satisfied: pygments in /usr/local/lib/python3.10/dist-packages (from ipython->-r requirements.txt (line 34)) (2.16.1)\n",
            "Requirement already satisfied: backcall in /usr/local/lib/python3.10/dist-packages (from ipython->-r requirements.txt (line 34)) (0.2.0)\n",
            "Requirement already satisfied: matplotlib-inline in /usr/local/lib/python3.10/dist-packages (from ipython->-r requirements.txt (line 34)) (0.1.6)\n",
            "Requirement already satisfied: pexpect>4.3 in /usr/local/lib/python3.10/dist-packages (from ipython->-r requirements.txt (line 34)) (4.8.0)\n",
            "Requirement already satisfied: cachetools<6.0,>=2.0.0 in /usr/local/lib/python3.10/dist-packages (from google-auth<3,>=1.6.3->tensorboard>=2.4.1->-r requirements.txt (line 17)) (5.3.2)\n",
            "Requirement already satisfied: pyasn1-modules>=0.2.1 in /usr/local/lib/python3.10/dist-packages (from google-auth<3,>=1.6.3->tensorboard>=2.4.1->-r requirements.txt (line 17)) (0.3.0)\n",
            "Requirement already satisfied: rsa<5,>=3.1.4 in /usr/local/lib/python3.10/dist-packages (from google-auth<3,>=1.6.3->tensorboard>=2.4.1->-r requirements.txt (line 17)) (4.9)\n",
            "Requirement already satisfied: requests-oauthlib>=0.7.0 in /usr/local/lib/python3.10/dist-packages (from google-auth-oauthlib<1.1,>=0.5->tensorboard>=2.4.1->-r requirements.txt (line 17)) (1.3.1)\n",
            "Requirement already satisfied: parso<0.9.0,>=0.8.3 in /usr/local/lib/python3.10/dist-packages (from jedi>=0.16->ipython->-r requirements.txt (line 34)) (0.8.3)\n",
            "Requirement already satisfied: ptyprocess>=0.5 in /usr/local/lib/python3.10/dist-packages (from pexpect>4.3->ipython->-r requirements.txt (line 34)) (0.7.0)\n",
            "Requirement already satisfied: wcwidth in /usr/local/lib/python3.10/dist-packages (from prompt-toolkit!=3.0.0,!=3.0.1,<3.1.0,>=2.0.0->ipython->-r requirements.txt (line 34)) (0.2.8)\n",
            "Requirement already satisfied: MarkupSafe>=2.1.1 in /usr/local/lib/python3.10/dist-packages (from werkzeug>=1.0.1->tensorboard>=2.4.1->-r requirements.txt (line 17)) (2.1.3)\n",
            "Requirement already satisfied: mpmath>=0.19 in /usr/local/lib/python3.10/dist-packages (from sympy->torch!=1.12.0,>=1.7.0->-r requirements.txt (line 11)) (1.3.0)\n",
            "Requirement already satisfied: pyasn1<0.6.0,>=0.4.6 in /usr/local/lib/python3.10/dist-packages (from pyasn1-modules>=0.2.1->google-auth<3,>=1.6.3->tensorboard>=2.4.1->-r requirements.txt (line 17)) (0.5.0)\n",
            "Requirement already satisfied: oauthlib>=3.0.0 in /usr/local/lib/python3.10/dist-packages (from requests-oauthlib>=0.7.0->google-auth-oauthlib<1.1,>=0.5->tensorboard>=2.4.1->-r requirements.txt (line 17)) (3.2.2)\n",
            "Installing collected packages: jedi, thop\n",
            "Successfully installed jedi-0.19.1 thop-0.1.1.post2209072238\n"
          ]
        }
      ],
      "source": [
        "%cd {HOME}\n",
        "!git clone https://github.com/WongKinYiu/yolov7\n",
        "%cd {HOME}/yolov7\n",
        "!pip install -r requirements.txt\n",
        "\n",
        "sys.path.append(f\"{HOME}/yolov7/\")"
      ]
    },
    {
      "cell_type": "markdown",
      "metadata": {
        "id": "imcGUdV4H8Ej"
      },
      "source": [
        "# 1. Video Data Path"
      ]
    },
    {
      "cell_type": "code",
      "execution_count": 5,
      "metadata": {
        "id": "GspxlfwPIBpo"
      },
      "outputs": [],
      "source": [
        "SKI_VIDEO_PATH = f\"{HOME}/input/trail.mp4\""
      ]
    },
    {
      "cell_type": "markdown",
      "metadata": {
        "id": "qVA2Dgs-IUF2"
      },
      "source": [
        "# 2. Utility Functions"
      ]
    },
    {
      "cell_type": "code",
      "execution_count": 6,
      "metadata": {
        "id": "EmCSIkQuIjhN"
      },
      "outputs": [],
      "source": [
        "from typing import Generator\n",
        "\n",
        "import matplotlib.pyplot as plt\n",
        "import numpy as np\n",
        "\n",
        "import cv2\n",
        "\n",
        "%matplotlib inline\n",
        "\n",
        "\n",
        "def generate_frames(video_file: str) -> Generator[np.ndarray, None, None]:\n",
        "    video = cv2.VideoCapture(video_file)\n",
        "\n",
        "    while video.isOpened():\n",
        "        success, frame = video.read()\n",
        "\n",
        "        if not success:\n",
        "            break\n",
        "\n",
        "        yield frame\n",
        "\n",
        "    video.release()\n",
        "\n",
        "\n",
        "def plot_image(image: np.ndarray, size: int = 12) -> None:\n",
        "    plt.figure(figsize=(size, size))\n",
        "    plt.axis('off')\n",
        "    plt.imshow(image[...,::-1])\n",
        "    plt.show()"
      ]
    },
    {
      "cell_type": "code",
      "execution_count": 7,
      "metadata": {
        "id": "s0bU6nXK1Bg4"
      },
      "outputs": [],
      "source": [
        "from typing import Optional, Tuple\n",
        "from dataclasses import dataclass\n",
        "\n",
        "\n",
        "@dataclass(frozen=True)\n",
        "class Point:\n",
        "    x: float\n",
        "    y: float\n",
        "\n",
        "    @property\n",
        "    def int_xy_tuple(self) -> Tuple[int, int]:\n",
        "        return int(self.x), int(self.y)\n",
        "\n",
        "\n",
        "@dataclass(frozen=True)\n",
        "class Rect:\n",
        "    x: float\n",
        "    y: float\n",
        "    width: float\n",
        "    height: float\n",
        "\n",
        "    @property\n",
        "    def top_left(self) -> Point:\n",
        "        return Point(x=self.x, y=self.y)\n",
        "\n",
        "    @property\n",
        "    def bottom_right(self) -> Point:\n",
        "        return Point(x=self.x + self.width, y=self.y + self.height)\n",
        "\n",
        "    @property\n",
        "    def bottom_center(self) -> Point:\n",
        "        return Point(x=self.x + self.width / 2, y=self.y + self.height)\n",
        "\n",
        "@dataclass\n",
        "class Detection:\n",
        "    rect: Rect\n",
        "    class_id: int\n",
        "    confidence: float\n",
        "    tracker_id: Optional[int] = None\n",
        "\n",
        "\n",
        "@dataclass(frozen=True)\n",
        "class Color:\n",
        "    r: int\n",
        "    g: int\n",
        "    b: int\n",
        "\n",
        "    @property\n",
        "    def bgr_tuple(self) -> Tuple[int, int, int]:\n",
        "        return self.b, self.g, self.r"
      ]
    },
    {
      "cell_type": "code",
      "execution_count": 8,
      "metadata": {
        "id": "lOIpf2XrR8ks"
      },
      "outputs": [],
      "source": [
        "import cv2\n",
        "\n",
        "import numpy as np\n",
        "\n",
        "def draw_rect(image: np.ndarray, rect: Rect, color: Color, thickness: int = 2) -> np.ndarray:\n",
        "    cv2.rectangle(image, rect.top_left.int_xy_tuple, rect.bottom_right.int_xy_tuple, color.bgr_tuple, thickness)\n",
        "    return image"
      ]
    },
    {
      "cell_type": "markdown",
      "metadata": {
        "id": "J70uswHDI3Bv"
      },
      "source": [
        "# 3. Load YOLOv7 Models"
      ]
    },
    {
      "cell_type": "code",
      "execution_count": 9,
      "metadata": {
        "colab": {
          "base_uri": "https://localhost:8080/"
        },
        "id": "BhKhJ6xMJDaj",
        "outputId": "a979f045-34cc-4620-efaa-09a73937d6f4"
      },
      "outputs": [
        {
          "output_type": "stream",
          "name": "stdout",
          "text": [
            "/content/yolov7\n"
          ]
        }
      ],
      "source": [
        "%cd {HOME}/yolov7\n",
        "!wget https://github.com/WongKinYiu/yolov7/releases/download/v0.1/yolov7-e6e.pt --quiet\n",
        "!wget https://github.com/WongKinYiu/yolov7/releases/download/v0.1/yolov7-w6-pose.pt --quiet"
      ]
    },
    {
      "cell_type": "code",
      "execution_count": 10,
      "metadata": {
        "id": "_mIibSxEJH8a"
      },
      "outputs": [],
      "source": [
        "DETECTION_MODEL_WEIGHTS_PATH = f\"{HOME}/yolov7/yolov7-e6e.pt\"\n",
        "POSE_MODEL_WEIGHTS_PATH = f\"{HOME}/yolov7/yolov7-w6-pose.pt\""
      ]
    },
    {
      "cell_type": "code",
      "execution_count": 11,
      "metadata": {
        "id": "5bDsSpqjmVLh"
      },
      "outputs": [],
      "source": [
        "import torch\n",
        "\n",
        "device = torch.device(\"cuda:0\" if torch.cuda.is_available() else \"cpu\")"
      ]
    },
    {
      "cell_type": "code",
      "execution_count": 12,
      "metadata": {
        "colab": {
          "base_uri": "https://localhost:8080/"
        },
        "id": "jTxEfsp8mmHu",
        "outputId": "19268aa2-988d-4ecd-8af3-3e4ccc93e7da"
      },
      "outputs": [
        {
          "output_type": "stream",
          "name": "stdout",
          "text": [
            "Fusing layers... \n"
          ]
        },
        {
          "output_type": "stream",
          "name": "stderr",
          "text": [
            "/usr/local/lib/python3.10/dist-packages/torch/functional.py:504: UserWarning: torch.meshgrid: in an upcoming release, it will be required to pass the indexing argument. (Triggered internally at ../aten/src/ATen/native/TensorShape.cpp:3526.)\n",
            "  return _VF.meshgrid(tensors, **kwargs)  # type: ignore[attr-defined]\n"
          ]
        }
      ],
      "source": [
        "from utils.general import check_img_size\n",
        "from models.experimental import attempt_load\n",
        "\n",
        "detection_model = attempt_load(weights=DETECTION_MODEL_WEIGHTS_PATH, map_location=device)"
      ]
    },
    {
      "cell_type": "code",
      "execution_count": 13,
      "metadata": {
        "id": "Z4u7bqKPyqCs"
      },
      "outputs": [],
      "source": [
        "weigths = torch.load(POSE_MODEL_WEIGHTS_PATH, map_location=device)\n",
        "pose_model = weigths[\"model\"]\n",
        "_ = pose_model.float().eval()\n",
        "\n",
        "if torch.cuda.is_available():\n",
        "    pose_model.half().to(device)"
      ]
    },
    {
      "cell_type": "markdown",
      "metadata": {
        "id": "a_5_FtYmQfj_"
      },
      "source": [
        "# 4. Detection and Annotation"
      ]
    },
    {
      "cell_type": "markdown",
      "metadata": {
        "id": "qdJQqteEfgnn"
      },
      "source": [
        "### Settings"
      ]
    },
    {
      "cell_type": "code",
      "execution_count": 21,
      "metadata": {
        "id": "G3Yv5O47rgst"
      },
      "outputs": [],
      "source": [
        "DETECTION_IMAGE_SIZE = 1920\n",
        "POSE_IMAGE_SIZE = 960\n",
        "STRIDE = 64\n",
        "CONFIDENCE_TRESHOLD = 0.25\n",
        "IOU_TRESHOLD = 0.65"
      ]
    },
    {
      "cell_type": "markdown",
      "metadata": {
        "id": "oTgO4dJOfk_d"
      },
      "source": [
        "### Pre-process"
      ]
    },
    {
      "cell_type": "code",
      "execution_count": 22,
      "metadata": {
        "id": "jc3-OeT73WAw"
      },
      "outputs": [],
      "source": [
        "from utils.datasets import letterbox\n",
        "from torchvision import transforms\n",
        "\n",
        "import numpy as np\n",
        "\n",
        "\n",
        "def detection_pre_process_frame(frame: np.ndarray, device: torch.device) -> torch.Tensor:\n",
        "    img = letterbox(frame, DETECTION_IMAGE_SIZE, STRIDE, auto=True)[0]\n",
        "    img = img[:, :, ::-1].transpose(2, 0, 1)\n",
        "    img = np.ascontiguousarray(img)\n",
        "    img = torch.from_numpy(img).to(device).float()\n",
        "    img /= 255.0\n",
        "    if img.ndimension() == 3:\n",
        "        img = img.unsqueeze(0)\n",
        "    return img\n",
        "\n",
        "def pose_pre_process_frame(frame: np.ndarray, device: torch.device) -> torch.Tensor:\n",
        "    image = letterbox(frame, POSE_IMAGE_SIZE, stride=STRIDE, auto=True)[0]\n",
        "    image = transforms.ToTensor()(image)\n",
        "    image = torch.tensor(np.array([image.numpy()]))\n",
        "\n",
        "    if torch.cuda.is_available():\n",
        "        image = image.half().to(device)\n",
        "\n",
        "    return image"
      ]
    },
    {
      "cell_type": "markdown",
      "metadata": {
        "id": "ABfh-OGdfqZn"
      },
      "source": [
        "### Post-process"
      ]
    },
    {
      "cell_type": "code",
      "execution_count": 23,
      "metadata": {
        "id": "CzmJr5fePLj6"
      },
      "outputs": [],
      "source": [
        "from typing import Tuple\n",
        "\n",
        "from utils.general import non_max_suppression_kpt, non_max_suppression\n",
        "from utils.plots import output_to_keypoint\n",
        "\n",
        "import numpy as np\n",
        "\n",
        "\n",
        "def clip_coords(boxes: np.ndarray, img_shape: Tuple[int, int]):\n",
        "    # Clip bounding xyxy bounding boxes to image shape (height, width)\n",
        "    boxes[:, 0] = np.clip(boxes[:, 0], 0, img_shape[1]) # x1\n",
        "    boxes[:, 1] = np.clip(boxes[:, 1], 0, img_shape[0]) # y1\n",
        "    boxes[:, 2] = np.clip(boxes[:, 2], 0, img_shape[1]) # x2\n",
        "    boxes[:, 3] = np.clip(boxes[:, 3], 0, img_shape[0]) # y2\n",
        "\n",
        "\n",
        "def detection_post_process_output(\n",
        "    output: torch.tensor,\n",
        "    confidence_trashold: float,\n",
        "    iou_trashold: float,\n",
        "    image_size: Tuple[int, int],\n",
        "    scaled_image_size: Tuple[int, int]\n",
        ") -> np.ndarray:\n",
        "    output = non_max_suppression(\n",
        "        prediction=output,\n",
        "        conf_thres=confidence_trashold,\n",
        "        iou_thres=iou_trashold\n",
        "    )\n",
        "    coords = output[0].detach().cpu().numpy()\n",
        "\n",
        "    v_gain = scaled_image_size[0] / image_size[0]\n",
        "    h_gain = scaled_image_size[1] / image_size[1]\n",
        "\n",
        "    coords[:, 0] /= h_gain\n",
        "    coords[:, 1] /= v_gain\n",
        "    coords[:, 2] /= h_gain\n",
        "    coords[:, 3] /= v_gain\n",
        "\n",
        "    clip_coords(coords, image_size)\n",
        "    return coords\n",
        "\n",
        "\n",
        "def post_process_pose(pose: np.ndarray, image_size: Tuple, scaled_image_size: Tuple) -> np.ndarray:\n",
        "    height, width = image_size\n",
        "    scaled_height, scaled_width = scaled_image_size\n",
        "    vertical_factor = height / scaled_height\n",
        "    horizontal_factor = width / scaled_width\n",
        "    result = pose.copy()\n",
        "    for i in range(17):\n",
        "        result[i * 3] = horizontal_factor * result[i * 3]\n",
        "        result[i * 3 + 1] = vertical_factor * result[i * 3 + 1]\n",
        "    return result\n",
        "\n",
        "\n",
        "def pose_post_process_output(\n",
        "    output: torch.tensor,\n",
        "    confidence_trashold: float,\n",
        "    iou_trashold: float,\n",
        "    image_size: Tuple[int, int],\n",
        "    scaled_image_size: Tuple[int, int]\n",
        ") -> np.ndarray:\n",
        "    output = non_max_suppression_kpt(\n",
        "        prediction=output,\n",
        "        conf_thres=confidence_trashold,\n",
        "        iou_thres=iou_trashold,\n",
        "        nc=pose_model.yaml['nc'],\n",
        "        nkpt=pose_model.yaml['nkpt'],\n",
        "        kpt_label=True)\n",
        "\n",
        "    with torch.no_grad():\n",
        "        output = output_to_keypoint(output)\n",
        "\n",
        "        for idx in range(output.shape[0]):\n",
        "            output[idx, 7:] = post_process_pose(\n",
        "                output[idx, 7:],\n",
        "                image_size=image_size,\n",
        "                scaled_image_size=scaled_image_size\n",
        "            )\n",
        "\n",
        "    return output"
      ]
    },
    {
      "cell_type": "markdown",
      "metadata": {
        "id": "LNWW23MuftV1"
      },
      "source": [
        "### Annotate"
      ]
    },
    {
      "cell_type": "code",
      "execution_count": 24,
      "metadata": {
        "id": "k1BgQPIgSjYP"
      },
      "outputs": [],
      "source": [
        "from utils.plots import plot_skeleton_kpts\n",
        "from scipy.spatial import distance\n",
        "\n",
        "class SkeletonTracker:\n",
        "    def __init__(self, max_distance=30):\n",
        "        self.max_distance = max_distance\n",
        "        self.trackers = {}\n",
        "        self.next_id = 0\n",
        "\n",
        "    def update(self, poses):\n",
        "        # Initialize current_ids at the beginning of the update method\n",
        "        current_ids = list(self.trackers.keys())\n",
        "\n",
        "        # If it's the first frame or no skeletons are currently tracked, assign new IDs to all poses\n",
        "        if not self.trackers or all(len(t[0]) == 0 for t in self.trackers.values()):\n",
        "            self.trackers = {self.next_id + i: (pose, self.calculate_centroid(pose)) for i, pose in enumerate(poses)}\n",
        "            self.next_id += len(poses)\n",
        "        else:\n",
        "            # Update trackers with new poses\n",
        "            for pose in poses:\n",
        "                pose_centroid = self.calculate_centroid(pose)\n",
        "\n",
        "                # Find the closest tracker to each pose\n",
        "                distances = {tid: np.linalg.norm(pose_centroid - self.trackers[tid][1])\n",
        "                             for tid in current_ids}\n",
        "                if current_ids:  # Make sure there are still IDs to be compared\n",
        "                    closest_tid, closest_dist = min(distances.items(), key=lambda item: item[1])\n",
        "                    if closest_dist < self.max_distance:\n",
        "                    # If the closest tracker is near enough, update it with the new pose\n",
        "                        self.trackers[closest_tid] = (pose, pose_centroid)\n",
        "                        current_ids.remove(closest_tid)\n",
        "                    else:\n",
        "                    # If no tracker is close enough, start a new one\n",
        "                        self.trackers[self.next_id] = (pose, pose_centroid)\n",
        "                        self.next_id += 1\n",
        "                else:\n",
        "                # If all current IDs have been matched, start a new tracker for the remaining poses\n",
        "                    self.trackers[self.next_id] = (pose, pose_centroid)\n",
        "                    self.next_id += 1\n",
        "\n",
        "\n",
        "        # Clear trackers without poses\n",
        "        for tid in current_ids:\n",
        "            del self.trackers[tid]\n",
        "\n",
        "        return self.trackers\n",
        "\n",
        "    def calculate_centroid(self, pose):\n",
        "        x = pose[::3]  # Extract every third element starting at index 0\n",
        "        y = pose[1::3] # Extract every third element starting at index 1\n",
        "        x_mean = np.mean(x[x != 0])  # Calculate the mean, excluding zeros (assuming zero is not a valid coordinate)\n",
        "        y_mean = np.mean(y[y != 0])  # Same for y\n",
        "        return np.array([x_mean, y_mean])\n",
        "\n",
        "def detect_annotate(image: np.ndarray, detections: np.ndarray, color: Color, thickness: int = 2) -> np.ndarray:\n",
        "    annotated_image = image.copy()\n",
        "    for x_min, y_min, x_max, y_max, confidence, class_id in detections:\n",
        "        rect = Rect(\n",
        "            x=float(x_min),\n",
        "            y=float(y_min),\n",
        "            width=float(x_max - x_min),\n",
        "            height=float(y_max - y_min)\n",
        "        )\n",
        "        annotated_image = draw_rect(image=annotated_image, rect=rect, color=color, thickness=thickness)\n",
        "\n",
        "    return annotated_image\n",
        "\n",
        "tracker = SkeletonTracker(max_distance=30)\n",
        "def pose_annotate(image: np.ndarray, detections: np.ndarray) -> np.ndarray:\n",
        "    annotated_frame = image.copy()\n",
        "\n",
        "    # Extract poses for the tracker\n",
        "    poses = [detections[idx, 7:].T for idx in range(detections.shape[0])]\n",
        "\n",
        "    # Update the tracker with new poses\n",
        "    tracked_poses = tracker.update(poses)\n",
        "\n",
        "    for track_id, (pose, _) in tracked_poses.items():\n",
        "        plot_skeleton_kpts(annotated_frame, pose, 3)\n",
        "\n",
        "        x = []\n",
        "        y = []\n",
        "        for kid in range(len(pose) // 3):\n",
        "          x.append(pose[3 * kid])\n",
        "          y.append(pose[3 * kid + 1])\n",
        "\n",
        "        x_coord = int(np.mean(x))\n",
        "        y_coord = int(np.mean(y))\n",
        "\n",
        "        cv2.putText(annotated_frame, f'ID: {track_id}', (x_coord, y_coord), cv2.FONT_HERSHEY_SIMPLEX, 0.5, (255, 255, 255), 2)\n",
        "\n",
        "    return annotated_frame"
      ]
    },
    {
      "cell_type": "markdown",
      "metadata": {
        "id": "ogjRMkiIfziH"
      },
      "source": [
        "### Single frame detection"
      ]
    },
    {
      "cell_type": "code",
      "execution_count": 25,
      "metadata": {
        "id": "tHF06D_1te5O"
      },
      "outputs": [],
      "source": [
        "COLOR = Color(r=255, g=255, b=255)\n",
        "\n",
        "frame_iterator = iter(generate_frames(video_file=SKI_VIDEO_PATH))\n",
        "\n",
        "frame = next(frame_iterator)\n",
        "\n",
        "detection_pre_processed_frame = detection_pre_process_frame(\n",
        "    frame=frame,\n",
        "    device=device\n",
        ")\n",
        "\n",
        "image_size = frame.shape[:2]\n",
        "scaled_image_size = tuple(detection_pre_processed_frame.size())[2:]\n",
        "\n",
        "with torch.no_grad():\n",
        "\n",
        "    detection_output = detection_model(detection_pre_processed_frame)[0].detach().cpu()\n",
        "\n",
        "    detection_output = detection_post_process_output(\n",
        "        output=detection_output,\n",
        "        confidence_trashold=CONFIDENCE_TRESHOLD,\n",
        "        iou_trashold=IOU_TRESHOLD,\n",
        "        image_size=image_size,\n",
        "        scaled_image_size=scaled_image_size\n",
        "    )\n",
        "\n",
        "annotated_frame = detect_annotate(image=frame, detections=detection_output, color=COLOR)\n",
        "\n",
        "plot_image(annotated_frame, 16)"
      ]
    },
    {
      "cell_type": "markdown",
      "metadata": {
        "id": "EynBheGWf6F3"
      },
      "source": [
        "### Single frame pose"
      ]
    },
    {
      "cell_type": "code",
      "execution_count": 26,
      "metadata": {
        "id": "p2hpuvnvQvaF"
      },
      "outputs": [],
      "source": [
        "def process_frame_and_annotate(frame: np.ndarray) -> np.ndarray:\n",
        "    pose_pre_processed_frame = pose_pre_process_frame(frame=frame.copy(), device=device)\n",
        "\n",
        "    image_size = frame.shape[:2]\n",
        "    scaled_image_size = tuple(pose_pre_processed_frame.size())[2:]\n",
        "\n",
        "    with torch.no_grad():\n",
        "        pose_output, _ = pose_model(pose_pre_processed_frame)\n",
        "        pose_output = pose_post_process_output(\n",
        "            output=pose_output,\n",
        "            confidence_trashold=CONFIDENCE_TRESHOLD,\n",
        "            iou_trashold=IOU_TRESHOLD,\n",
        "            image_size=image_size,\n",
        "            scaled_image_size=scaled_image_size\n",
        "        )\n",
        "\n",
        "    annotated_frame = pose_annotate(image=frame, detections=pose_output)\n",
        "\n",
        "    return annotated_frame"
      ]
    },
    {
      "cell_type": "code",
      "execution_count": 27,
      "metadata": {
        "id": "45gmp90WRZbR"
      },
      "outputs": [],
      "source": [
        "frame_iterator = iter(generate_frames(video_file=SKI_VIDEO_PATH))\n",
        "\n",
        "frame = next(frame_iterator)\n",
        "\n",
        "annotated_frame = process_frame_and_annotate(frame=frame)\n",
        "\n",
        "plot_image(annotated_frame, 16)"
      ]
    },
    {
      "cell_type": "markdown",
      "metadata": {
        "id": "pK360pgnNONK"
      },
      "source": [
        "# 5. Process video"
      ]
    },
    {
      "cell_type": "code",
      "execution_count": 28,
      "metadata": {
        "id": "aOIkcjAIPNKO"
      },
      "outputs": [],
      "source": [
        "from dataclasses import dataclass\n",
        "\n",
        "import cv2\n",
        "\n",
        "\n",
        "\"\"\"\n",
        "usage example:\n",
        "\n",
        "video_config = VideoConfig(\n",
        "    fps=30,\n",
        "    width=1920,\n",
        "    height=1080)\n",
        "video_writer = get_video_writer(\n",
        "    target_video_path=TARGET_VIDEO_PATH,\n",
        "    video_config=video_config)\n",
        "\n",
        "for frame in frames:\n",
        "    ...\n",
        "    video_writer.write(frame)\n",
        "\n",
        "video_writer.release()\n",
        "\"\"\"\n",
        "\n",
        "\n",
        "# stores information about output video file, width and height of the frame must be equal to input video\n",
        "@dataclass(frozen=True)\n",
        "class VideoConfig:\n",
        "    fps: float\n",
        "    width: int\n",
        "    height: int\n",
        "\n",
        "\n",
        "# create cv2.VideoWriter object that we can use to save output video\n",
        "def get_video_writer(target_video_path: str, video_config: VideoConfig) -> cv2.VideoWriter:\n",
        "    video_target_dir = os.path.dirname(os.path.abspath(target_video_path))\n",
        "    os.makedirs(video_target_dir, exist_ok=True)\n",
        "    return cv2.VideoWriter(\n",
        "        target_video_path,\n",
        "        fourcc=cv2.VideoWriter_fourcc(*\"mp4v\"),\n",
        "        fps=video_config.fps,\n",
        "        frameSize=(video_config.width, video_config.height),\n",
        "        isColor=True\n",
        "    )\n",
        "\n",
        "\n",
        "def get_frame_count(path: str) -> int:\n",
        "    cap = cv2.VideoCapture(path)\n",
        "    return int(cap.get(cv2.CAP_PROP_FRAME_COUNT))"
      ]
    },
    {
      "cell_type": "code",
      "execution_count": 29,
      "metadata": {
        "id": "iaeG4qbRQ-ui"
      },
      "outputs": [],
      "source": [
        "SOURCE_VIDEO_PATH = SKI_VIDEO_PATH\n",
        "TARGET_VIDEO_PATH = f\"{HOME}/output/pose-estimation.mp4\""
      ]
    },
    {
      "cell_type": "code",
      "execution_count": 30,
      "metadata": {
        "colab": {
          "base_uri": "https://localhost:8080/",
          "height": 49,
          "referenced_widgets": [
            "3322fb664d824d5bbeab0cc323d86514",
            "200460df5d8842d7be4e9ac8dd815498",
            "30852ea9f91c4c5f8c36a9b7921b62b3",
            "adafc67e22d0419e95378a1324903877",
            "04590094736c45e4b5966881ecd9d1b0",
            "ff5c89627c94497baab60df39d818f21",
            "6c406fec55a7403cb756024926a5f039",
            "8c9a9dbbde8344fdb663719f8e76f187",
            "1a196feb262748c1821a99f2f04cac65",
            "d53e1d2bf2284600a88c36fa57de4fea",
            "04dede13417b4a1795aad1191505abba"
          ]
        },
        "id": "Zlx2rWnCRDr1",
        "outputId": "95668a55-033b-40a2-d307-2a32acee07f1"
      },
      "outputs": [
        {
          "output_type": "display_data",
          "data": {
            "text/plain": [
              "  0%|          | 0/422 [00:00<?, ?it/s]"
            ],
            "application/vnd.jupyter.widget-view+json": {
              "version_major": 2,
              "version_minor": 0,
              "model_id": "3322fb664d824d5bbeab0cc323d86514"
            }
          },
          "metadata": {}
        }
      ],
      "source": [
        "from tqdm.notebook import tqdm\n",
        "\n",
        "COLOR = Color(r=255, g=255, b=255)\n",
        "\n",
        "# initiate video writer\n",
        "video_config = VideoConfig(\n",
        "    fps=25,\n",
        "    width=1920,\n",
        "    height=1080)\n",
        "video_writer = get_video_writer(\n",
        "    target_video_path=TARGET_VIDEO_PATH,\n",
        "    video_config=video_config)\n",
        "\n",
        "# get fresh video frame generator\n",
        "frame_iterator = iter(generate_frames(video_file=SOURCE_VIDEO_PATH))\n",
        "\n",
        "total = get_frame_count(SOURCE_VIDEO_PATH)\n",
        "\n",
        "for frame in tqdm(frame_iterator, total=total):\n",
        "    annotated_frame = frame.copy()\n",
        "\n",
        "    with torch.no_grad():\n",
        "        image_size = frame.shape[:2]\n",
        "\n",
        "        #detection\n",
        "        detection_pre_processed_frame = detection_pre_process_frame(\n",
        "            frame=frame,\n",
        "            device=device)\n",
        "        detection_scaled_image_size = tuple(detection_pre_processed_frame.size())[2:]\n",
        "\n",
        "        detection_output = detection_model(detection_pre_processed_frame)[0].detach().cpu()\n",
        "        detection_output = detection_post_process_output(\n",
        "            output=detection_output,\n",
        "            confidence_trashold=CONFIDENCE_TRESHOLD,\n",
        "            iou_trashold=IOU_TRESHOLD,\n",
        "            image_size=image_size,\n",
        "            scaled_image_size=detection_scaled_image_size\n",
        "        )\n",
        "        # annotated_frame = detect_annotate(image=annotated_frame, detections=detection_output, color=COLOR)\n",
        "\n",
        "        # pose\n",
        "        pose_pre_processed_frame = pose_pre_process_frame(\n",
        "            frame=frame,\n",
        "            device=device)\n",
        "        pose_scaled_image_size = tuple(pose_pre_processed_frame.size())[2:]\n",
        "\n",
        "        pose_output = pose_model(pose_pre_processed_frame)[0].detach().cpu()\n",
        "        pose_output = pose_post_process_output(\n",
        "            output=pose_output,\n",
        "            confidence_trashold=CONFIDENCE_TRESHOLD,\n",
        "            iou_trashold=IOU_TRESHOLD,\n",
        "            image_size=image_size,\n",
        "            scaled_image_size=pose_scaled_image_size\n",
        "        )\n",
        "        annotated_frame = pose_annotate(\n",
        "            image=annotated_frame, detections=pose_output)\n",
        "\n",
        "        # save video frame\n",
        "        video_writer.write(annotated_frame)\n",
        "\n",
        "# close output video\n",
        "video_writer.release()"
      ]
    }
  ],
  "metadata": {
    "accelerator": "GPU",
    "colab": {
      "provenance": [],
      "authorship_tag": "ABX9TyOyiVlwlVyg3ElwNrJ9wdWK",
      "include_colab_link": true
    },
    "kernelspec": {
      "display_name": "Python 3",
      "name": "python3"
    },
    "language_info": {
      "name": "python"
    },
    "widgets": {
      "application/vnd.jupyter.widget-state+json": {
        "3322fb664d824d5bbeab0cc323d86514": {
          "model_module": "@jupyter-widgets/controls",
          "model_name": "HBoxModel",
          "model_module_version": "1.5.0",
          "state": {
            "_dom_classes": [],
            "_model_module": "@jupyter-widgets/controls",
            "_model_module_version": "1.5.0",
            "_model_name": "HBoxModel",
            "_view_count": null,
            "_view_module": "@jupyter-widgets/controls",
            "_view_module_version": "1.5.0",
            "_view_name": "HBoxView",
            "box_style": "",
            "children": [
              "IPY_MODEL_200460df5d8842d7be4e9ac8dd815498",
              "IPY_MODEL_30852ea9f91c4c5f8c36a9b7921b62b3",
              "IPY_MODEL_adafc67e22d0419e95378a1324903877"
            ],
            "layout": "IPY_MODEL_04590094736c45e4b5966881ecd9d1b0"
          }
        },
        "200460df5d8842d7be4e9ac8dd815498": {
          "model_module": "@jupyter-widgets/controls",
          "model_name": "HTMLModel",
          "model_module_version": "1.5.0",
          "state": {
            "_dom_classes": [],
            "_model_module": "@jupyter-widgets/controls",
            "_model_module_version": "1.5.0",
            "_model_name": "HTMLModel",
            "_view_count": null,
            "_view_module": "@jupyter-widgets/controls",
            "_view_module_version": "1.5.0",
            "_view_name": "HTMLView",
            "description": "",
            "description_tooltip": null,
            "layout": "IPY_MODEL_ff5c89627c94497baab60df39d818f21",
            "placeholder": "​",
            "style": "IPY_MODEL_6c406fec55a7403cb756024926a5f039",
            "value": "100%"
          }
        },
        "30852ea9f91c4c5f8c36a9b7921b62b3": {
          "model_module": "@jupyter-widgets/controls",
          "model_name": "FloatProgressModel",
          "model_module_version": "1.5.0",
          "state": {
            "_dom_classes": [],
            "_model_module": "@jupyter-widgets/controls",
            "_model_module_version": "1.5.0",
            "_model_name": "FloatProgressModel",
            "_view_count": null,
            "_view_module": "@jupyter-widgets/controls",
            "_view_module_version": "1.5.0",
            "_view_name": "ProgressView",
            "bar_style": "success",
            "description": "",
            "description_tooltip": null,
            "layout": "IPY_MODEL_8c9a9dbbde8344fdb663719f8e76f187",
            "max": 422,
            "min": 0,
            "orientation": "horizontal",
            "style": "IPY_MODEL_1a196feb262748c1821a99f2f04cac65",
            "value": 422
          }
        },
        "adafc67e22d0419e95378a1324903877": {
          "model_module": "@jupyter-widgets/controls",
          "model_name": "HTMLModel",
          "model_module_version": "1.5.0",
          "state": {
            "_dom_classes": [],
            "_model_module": "@jupyter-widgets/controls",
            "_model_module_version": "1.5.0",
            "_model_name": "HTMLModel",
            "_view_count": null,
            "_view_module": "@jupyter-widgets/controls",
            "_view_module_version": "1.5.0",
            "_view_name": "HTMLView",
            "description": "",
            "description_tooltip": null,
            "layout": "IPY_MODEL_d53e1d2bf2284600a88c36fa57de4fea",
            "placeholder": "​",
            "style": "IPY_MODEL_04dede13417b4a1795aad1191505abba",
            "value": " 422/422 [02:46&lt;00:00,  2.62it/s]"
          }
        },
        "04590094736c45e4b5966881ecd9d1b0": {
          "model_module": "@jupyter-widgets/base",
          "model_name": "LayoutModel",
          "model_module_version": "1.2.0",
          "state": {
            "_model_module": "@jupyter-widgets/base",
            "_model_module_version": "1.2.0",
            "_model_name": "LayoutModel",
            "_view_count": null,
            "_view_module": "@jupyter-widgets/base",
            "_view_module_version": "1.2.0",
            "_view_name": "LayoutView",
            "align_content": null,
            "align_items": null,
            "align_self": null,
            "border": null,
            "bottom": null,
            "display": null,
            "flex": null,
            "flex_flow": null,
            "grid_area": null,
            "grid_auto_columns": null,
            "grid_auto_flow": null,
            "grid_auto_rows": null,
            "grid_column": null,
            "grid_gap": null,
            "grid_row": null,
            "grid_template_areas": null,
            "grid_template_columns": null,
            "grid_template_rows": null,
            "height": null,
            "justify_content": null,
            "justify_items": null,
            "left": null,
            "margin": null,
            "max_height": null,
            "max_width": null,
            "min_height": null,
            "min_width": null,
            "object_fit": null,
            "object_position": null,
            "order": null,
            "overflow": null,
            "overflow_x": null,
            "overflow_y": null,
            "padding": null,
            "right": null,
            "top": null,
            "visibility": null,
            "width": null
          }
        },
        "ff5c89627c94497baab60df39d818f21": {
          "model_module": "@jupyter-widgets/base",
          "model_name": "LayoutModel",
          "model_module_version": "1.2.0",
          "state": {
            "_model_module": "@jupyter-widgets/base",
            "_model_module_version": "1.2.0",
            "_model_name": "LayoutModel",
            "_view_count": null,
            "_view_module": "@jupyter-widgets/base",
            "_view_module_version": "1.2.0",
            "_view_name": "LayoutView",
            "align_content": null,
            "align_items": null,
            "align_self": null,
            "border": null,
            "bottom": null,
            "display": null,
            "flex": null,
            "flex_flow": null,
            "grid_area": null,
            "grid_auto_columns": null,
            "grid_auto_flow": null,
            "grid_auto_rows": null,
            "grid_column": null,
            "grid_gap": null,
            "grid_row": null,
            "grid_template_areas": null,
            "grid_template_columns": null,
            "grid_template_rows": null,
            "height": null,
            "justify_content": null,
            "justify_items": null,
            "left": null,
            "margin": null,
            "max_height": null,
            "max_width": null,
            "min_height": null,
            "min_width": null,
            "object_fit": null,
            "object_position": null,
            "order": null,
            "overflow": null,
            "overflow_x": null,
            "overflow_y": null,
            "padding": null,
            "right": null,
            "top": null,
            "visibility": null,
            "width": null
          }
        },
        "6c406fec55a7403cb756024926a5f039": {
          "model_module": "@jupyter-widgets/controls",
          "model_name": "DescriptionStyleModel",
          "model_module_version": "1.5.0",
          "state": {
            "_model_module": "@jupyter-widgets/controls",
            "_model_module_version": "1.5.0",
            "_model_name": "DescriptionStyleModel",
            "_view_count": null,
            "_view_module": "@jupyter-widgets/base",
            "_view_module_version": "1.2.0",
            "_view_name": "StyleView",
            "description_width": ""
          }
        },
        "8c9a9dbbde8344fdb663719f8e76f187": {
          "model_module": "@jupyter-widgets/base",
          "model_name": "LayoutModel",
          "model_module_version": "1.2.0",
          "state": {
            "_model_module": "@jupyter-widgets/base",
            "_model_module_version": "1.2.0",
            "_model_name": "LayoutModel",
            "_view_count": null,
            "_view_module": "@jupyter-widgets/base",
            "_view_module_version": "1.2.0",
            "_view_name": "LayoutView",
            "align_content": null,
            "align_items": null,
            "align_self": null,
            "border": null,
            "bottom": null,
            "display": null,
            "flex": null,
            "flex_flow": null,
            "grid_area": null,
            "grid_auto_columns": null,
            "grid_auto_flow": null,
            "grid_auto_rows": null,
            "grid_column": null,
            "grid_gap": null,
            "grid_row": null,
            "grid_template_areas": null,
            "grid_template_columns": null,
            "grid_template_rows": null,
            "height": null,
            "justify_content": null,
            "justify_items": null,
            "left": null,
            "margin": null,
            "max_height": null,
            "max_width": null,
            "min_height": null,
            "min_width": null,
            "object_fit": null,
            "object_position": null,
            "order": null,
            "overflow": null,
            "overflow_x": null,
            "overflow_y": null,
            "padding": null,
            "right": null,
            "top": null,
            "visibility": null,
            "width": null
          }
        },
        "1a196feb262748c1821a99f2f04cac65": {
          "model_module": "@jupyter-widgets/controls",
          "model_name": "ProgressStyleModel",
          "model_module_version": "1.5.0",
          "state": {
            "_model_module": "@jupyter-widgets/controls",
            "_model_module_version": "1.5.0",
            "_model_name": "ProgressStyleModel",
            "_view_count": null,
            "_view_module": "@jupyter-widgets/base",
            "_view_module_version": "1.2.0",
            "_view_name": "StyleView",
            "bar_color": null,
            "description_width": ""
          }
        },
        "d53e1d2bf2284600a88c36fa57de4fea": {
          "model_module": "@jupyter-widgets/base",
          "model_name": "LayoutModel",
          "model_module_version": "1.2.0",
          "state": {
            "_model_module": "@jupyter-widgets/base",
            "_model_module_version": "1.2.0",
            "_model_name": "LayoutModel",
            "_view_count": null,
            "_view_module": "@jupyter-widgets/base",
            "_view_module_version": "1.2.0",
            "_view_name": "LayoutView",
            "align_content": null,
            "align_items": null,
            "align_self": null,
            "border": null,
            "bottom": null,
            "display": null,
            "flex": null,
            "flex_flow": null,
            "grid_area": null,
            "grid_auto_columns": null,
            "grid_auto_flow": null,
            "grid_auto_rows": null,
            "grid_column": null,
            "grid_gap": null,
            "grid_row": null,
            "grid_template_areas": null,
            "grid_template_columns": null,
            "grid_template_rows": null,
            "height": null,
            "justify_content": null,
            "justify_items": null,
            "left": null,
            "margin": null,
            "max_height": null,
            "max_width": null,
            "min_height": null,
            "min_width": null,
            "object_fit": null,
            "object_position": null,
            "order": null,
            "overflow": null,
            "overflow_x": null,
            "overflow_y": null,
            "padding": null,
            "right": null,
            "top": null,
            "visibility": null,
            "width": null
          }
        },
        "04dede13417b4a1795aad1191505abba": {
          "model_module": "@jupyter-widgets/controls",
          "model_name": "DescriptionStyleModel",
          "model_module_version": "1.5.0",
          "state": {
            "_model_module": "@jupyter-widgets/controls",
            "_model_module_version": "1.5.0",
            "_model_name": "DescriptionStyleModel",
            "_view_count": null,
            "_view_module": "@jupyter-widgets/base",
            "_view_module_version": "1.2.0",
            "_view_name": "StyleView",
            "description_width": ""
          }
        }
      }
    }
  },
  "nbformat": 4,
  "nbformat_minor": 0
}